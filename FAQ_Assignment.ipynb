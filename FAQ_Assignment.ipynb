{
  "nbformat": 4,
  "nbformat_minor": 0,
  "metadata": {
    "colab": {
      "provenance": []
    },
    "kernelspec": {
      "name": "python3",
      "display_name": "Python 3"
    },
    "language_info": {
      "name": "python"
    }
  },
  "cells": [
    {
      "cell_type": "code",
      "source": [
        "# Install the Python SDK\n",
        "!pip install -U -q google-generativeai"
      ],
      "metadata": {
        "colab": {
          "base_uri": "https://localhost:8080/"
        },
        "id": "pJFTc7FE_8Mo",
        "outputId": "1e09ea67-8e89-40a6-a83b-fa2a1b5e2dd0"
      },
      "execution_count": 5,
      "outputs": [
        {
          "output_type": "stream",
          "name": "stdout",
          "text": [
            "\u001b[2K     \u001b[90m━━━━━━━━━━━━━━━━━━━━━━━━━━━━━━━━━━━━━━━━\u001b[0m \u001b[32m163.9/163.9 kB\u001b[0m \u001b[31m1.6 MB/s\u001b[0m eta \u001b[36m0:00:00\u001b[0m\n",
            "\u001b[2K     \u001b[90m━━━━━━━━━━━━━━━━━━━━━━━━━━━━━━━━━━━━━━━━\u001b[0m \u001b[32m718.3/718.3 kB\u001b[0m \u001b[31m9.3 MB/s\u001b[0m eta \u001b[36m0:00:00\u001b[0m\n",
            "\u001b[?25h"
          ]
        }
      ]
    },
    {
      "cell_type": "code",
      "source": [
        "import google.generativeai as genai\n",
        "from google.colab import userdata\n",
        "\n",
        "# Retrieve your API key securely from Colab environment variables\n",
        "GOOGLE_API_KEY = userdata.get('GOOGLE_API_KEY')\n",
        "genai.configure(api_key=GOOGLE_API_KEY)\n",
        "\n",
        "# Initialize the GenerativeModel with custom generation configuration\n",
        "model = genai.GenerativeModel(\n",
        "    'gemini-1.5-flash',  # Replace with the appropriate Gemini model for FAQs\n",
        "    generation_config=genai.GenerationConfig(\n",
        "        max_output_tokens=100,\n",
        "        temperature=0.9\n",
        "    )\n",
        ")"
      ],
      "metadata": {
        "id": "PNNoSgTxAE3M"
      },
      "execution_count": 11,
      "outputs": []
    },
    {
      "cell_type": "code",
      "source": [
        "def answer_smart_tv_question(faqs_and_answers, novel_question):\n",
        "  \"\"\"\n",
        "  Answers a novel question about smart TVs using provided FAQs and the Gemini API.\n",
        "\n",
        "  Args:\n",
        "      faqs_and_answers: A string containing multiple FAQ-answer pairs about smart TVs.\n",
        "      novel_question: The new question to be asked about smart TVs.\n",
        "\n",
        "  Returns:\n",
        "      The generated answer to the novel question.\n",
        "  \"\"\"\n",
        "\n",
        "  # Ideally, use a dataset of smart TV FAQs and answers here\n",
        "  # For demonstration purposes, we'll use a placeholder (replace with actual smart TV FAQs)\n",
        "  # faqs_and_answers = \"...\"  # Replace with smart TV FAQ data\n",
        "\n",
        "  # Craft a prompt that incorporates context, the provided examples, and the new question\n",
        "  prompt = f\"\"\"This passage contains frequently asked questions and answers about smart TVs:\n",
        "\n",
        "  {faqs_and_answers}\n",
        "\n",
        "  You can ask me more questions about smart TVs.\n",
        "\n",
        "  Q: {novel_question}\n",
        "  A:\"\"\"\n",
        "\n",
        "  response = model.generate_content(prompt)\n",
        "  return response.text.strip()\n"
      ],
      "metadata": {
        "id": "FZJyMhtnAOwL"
      },
      "execution_count": 17,
      "outputs": []
    },
    {
      "cell_type": "code",
      "source": [
        "# Example usage (replace with your actual smart TV FAQs)\n",
        "faqs_and_answers = \"\"\"\n",
        "FAQ: What is a smart TV?\n",
        "Answer: A smart TV is a television set with integrated internet and web browsing capabilities.\n",
        "\n",
        "FAQ: What are the benefits of having a smart TV?\n",
        "Answer: Smart TVs offer a wider range of features than traditional TVs, such as streaming services, apps, and voice control.\n",
        "\"\"\"\n",
        "\n",
        "# Get the user's question\n",
        "novel_question = input(\"Question: \")\n",
        "\n",
        "answer = answer_smart_tv_question(faqs_and_answers, novel_question)\n",
        "print(answer)\n"
      ],
      "metadata": {
        "colab": {
          "base_uri": "https://localhost:8080/",
          "height": 52
        },
        "id": "AilHgkRVAZ0o",
        "outputId": "a4d15899-7c9f-4936-85aa-5046ef048a66"
      },
      "execution_count": 22,
      "outputs": [
        {
          "output_type": "stream",
          "name": "stdout",
          "text": [
            "Question: Does my smart TV have a web browser?\n",
            "A: Yes, smart TVs come with built-in web browsers, allowing you to access the internet and browse websites directly on your TV screen.\n"
          ]
        }
      ]
    }
  ]
}